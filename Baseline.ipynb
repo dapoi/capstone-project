{
  "nbformat": 4,
  "nbformat_minor": 0,
  "metadata": {
    "accelerator": "GPU",
    "colab": {
      "name": "Baseline.ipynb",
      "provenance": [],
      "toc_visible": true
    },
    "kernelspec": {
      "display_name": "Python 3",
      "name": "python3"
    },
    "language_info": {
      "name": "python"
    }
  },
  "cells": [
    {
      "cell_type": "markdown",
      "metadata": {
        "id": "yzTg6VqbGvL3"
      },
      "source": [
        "## **LIBRARY**"
      ]
    },
    {
      "cell_type": "code",
      "metadata": {
        "id": "u5iqt7AssxaH"
      },
      "source": [
        "import csv\n",
        "import tensorflow as tf\n",
        "import numpy as np\n",
        "import pandas as pd\n",
        "import os\n",
        "import zipfile\n",
        "import glob\n",
        "import tensorflow as tf\n",
        "import numpy as np\n",
        "from tensorflow.keras.preprocessing.text import Tokenizer\n",
        "from tensorflow.keras.preprocessing.sequence import pad_sequences\n",
        "import matplotlib.pyplot as plt\n",
        "import re\n",
        "from sklearn.model_selection import train_test_split\n",
        "import random\n",
        "import seaborn as sns\n",
        "from sklearn.preprocessing import OneHotEncoder"
      ],
      "execution_count": 1,
      "outputs": []
    },
    {
      "cell_type": "markdown",
      "metadata": {
        "id": "e-5hLVJose0F"
      },
      "source": [
        "### **DATA PRE-PROCESSING**"
      ]
    },
    {
      "cell_type": "code",
      "metadata": {
        "colab": {
          "base_uri": "https://localhost:8080/"
        },
        "id": "UKhryc_ZrVmK",
        "outputId": "af9f3743-1a02-4f5f-b29e-d9824d234692"
      },
      "source": [
        "from google.colab import drive\n",
        "drive.mount('/content/drive')"
      ],
      "execution_count": 2,
      "outputs": [
        {
          "output_type": "stream",
          "text": [
            "Mounted at /content/drive\n"
          ],
          "name": "stdout"
        }
      ]
    },
    {
      "cell_type": "code",
      "metadata": {
        "id": "DYZWQ1ZRwTW_"
      },
      "source": [
        "# You can get the dataset and preprocessed dataset on the drive link below,you can copy the folder to your own google drive.\n",
        "# https://drive.google.com/drive/folders/113RBqGn2YrB5u7D7OT9X5y6uMLAfpvRI?usp=sharing"
      ],
      "execution_count": null,
      "outputs": []
    },
    {
      "cell_type": "code",
      "metadata": {
        "id": "t7LOy2MMs9KN"
      },
      "source": [
        "basedir = '/content/drive/MyDrive/bangkit/dataset'"
      ],
      "execution_count": null,
      "outputs": []
    },
    {
      "cell_type": "code",
      "metadata": {
        "id": "rshruh9IrH9A"
      },
      "source": [
        "local_zip = '/content/drive/MyDrive/bangkit/resumes_corpus.zip'\n",
        "zip_ref = zipfile.ZipFile(local_zip, 'r')\n",
        "zip_ref.extractall(basedir)\n",
        "zip_ref.close()"
      ],
      "execution_count": null,
      "outputs": []
    },
    {
      "cell_type": "code",
      "metadata": {
        "colab": {
          "base_uri": "https://localhost:8080/"
        },
        "id": "X950qm_hdKVN",
        "outputId": "55aeed72-3130-440b-c9d1-30e7f4468760"
      },
      "source": [
        "y = []\n",
        "filelist = glob.glob(os.path.join(basedir, '*.lab'))\n",
        "for infile in sorted(filelist): \n",
        "  with open(infile) as f:              \n",
        "    temp = f.readline()\n",
        "    y.append(pd.Series(temp.rstrip('\\n')))\n",
        "y = np.array(y)\n",
        "len(y)\n",
        "pd.DataFrame(np.array(y)).to_csv(\"/content/drive/MyDrive/bangkit/lab.csv\",index=None)"
      ],
      "execution_count": null,
      "outputs": [
        {
          "output_type": "execute_result",
          "data": {
            "text/plain": [
              "29783"
            ]
          },
          "metadata": {
            "tags": []
          },
          "execution_count": 18
        }
      ]
    },
    {
      "cell_type": "code",
      "metadata": {
        "colab": {
          "base_uri": "https://localhost:8080/"
        },
        "id": "zx29-NRhIUWa",
        "outputId": "6ea14c36-6611-4661-c9ad-8af62bf8d120"
      },
      "source": [
        "x = []\n",
        "filelistx = glob.glob(os.path.join(basedir, '*.txt'))\n",
        "for infile in sorted(filelistx): \n",
        "  with open(infile,encoding = \"ISO-8859-1\") as f:              \n",
        "    temp = f.readline()\n",
        "    x.append(pd.Series([temp.rstrip('\\n')]))\n",
        "x = np.array(x)\n",
        "len(x)\n",
        "pd.DataFrame(np.array(x)).to_csv(\"/content/drive/MyDrive/bangkit/corpus.csv\",index=None)"
      ],
      "execution_count": null,
      "outputs": [
        {
          "output_type": "execute_result",
          "data": {
            "text/plain": [
              "29783"
            ]
          },
          "metadata": {
            "tags": []
          },
          "execution_count": 20
        }
      ]
    },
    {
      "cell_type": "code",
      "metadata": {
        "id": "NTg6BwFoT4ss"
      },
      "source": [
        "lab = pd.read_csv('/content/drive/MyDrive/bangkit/lab.csv')\n",
        "resume = pd.read_csv('/content/drive/MyDrive/bangkit/corpus.csv')\n",
        "list_of_tuples = list(zip(lab['0'], resume['0'])) \n",
        "df = pd.DataFrame(list_of_tuples,\n",
        "                  columns = ['Job', 'Resume']) "
      ],
      "execution_count": null,
      "outputs": []
    },
    {
      "cell_type": "code",
      "metadata": {
        "colab": {
          "base_uri": "https://localhost:8080/"
        },
        "id": "AzwczQcSbAvm",
        "outputId": "715ff4a5-cc1d-4d3d-cee3-12f11fe64bdc"
      },
      "source": [
        "df.dropna(subset = [\"Job\"], inplace=True)\n",
        "df.isnull().any() \n",
        "pd.DataFrame(df).to_csv(\"/content/drive/MyDrive/bangkit/df.csv\",index=None)"
      ],
      "execution_count": null,
      "outputs": [
        {
          "output_type": "execute_result",
          "data": {
            "text/plain": [
              "Job       False\n",
              "Resume    False\n",
              "dtype: bool"
            ]
          },
          "metadata": {
            "tags": []
          },
          "execution_count": 10
        }
      ]
    },
    {
      "cell_type": "markdown",
      "metadata": {
        "id": "y2m2mNdwisXl"
      },
      "source": [
        "## **Data Preview**"
      ]
    },
    {
      "cell_type": "code",
      "metadata": {
        "colab": {
          "base_uri": "https://localhost:8080/",
          "height": 729
        },
        "id": "NB3t7JC2bMCl",
        "outputId": "072e83a0-e2f1-4f66-ff32-89d8590b2a32"
      },
      "source": [
        "sns.set_style('whitegrid')\n",
        "plt.figure(figsize=(12, 10))\n",
        "ax = sns.countplot(x='Job', data=df)\n",
        "ax.set_xticklabels(ax.get_xticklabels(), rotation=40, ha=\"right\")\n",
        "plt.tight_layout()"
      ],
      "execution_count": null,
      "outputs": [
        {
          "output_type": "display_data",
          "data": {
            "image/png": "[encoded data removed]",
            "text/plain": [
              "<Figure size 864x720 with 1 Axes>"
            ]
          },
          "metadata": {
            "tags": []
          }
        }
      ]
    },
    {
      "cell_type": "code",
      "metadata": {
        "colab": {
          "base_uri": "https://localhost:8080/",
          "height": 206
        },
        "id": "WpzC-IJhjDTI",
        "outputId": "810befe7-3296-4391-97a2-9511cbd4ced7"
      },
      "source": [
        "df.head()"
      ],
      "execution_count": 11,
      "outputs": [
        {
          "output_type": "execute_result",
          "data": {
            "text/html": [
              "<div>\n",
              "<style scoped>\n",
              "    .dataframe tbody tr th:only-of-type {\n",
              "        vertical-align: middle;\n",
              "    }\n",
              "\n",
              "    .dataframe tbody tr th {\n",
              "        vertical-align: top;\n",
              "    }\n",
              "\n",
              "    .dataframe thead th {\n",
              "        text-align: right;\n",
              "    }\n",
              "</style>\n",
              "<table border=\"1\" class=\"dataframe\">\n",
              "  <thead>\n",
              "    <tr style=\"text-align: right;\">\n",
              "      <th></th>\n",
              "      <th>Job</th>\n",
              "      <th>Resume</th>\n",
              "    </tr>\n",
              "  </thead>\n",
              "  <tbody>\n",
              "    <tr>\n",
              "      <th>0</th>\n",
              "      <td>Project_manager</td>\n",
              "      <td>Software Project Manager Software &lt;span class=...</td>\n",
              "    </tr>\n",
              "    <tr>\n",
              "      <th>1</th>\n",
              "      <td>Systems_Administrator</td>\n",
              "      <td>System Operation Engineer System Operation Eng...</td>\n",
              "    </tr>\n",
              "    <tr>\n",
              "      <th>2</th>\n",
              "      <td>Project_manager</td>\n",
              "      <td>Sales Engineer Sales Engineer Project Manager/...</td>\n",
              "    </tr>\n",
              "    <tr>\n",
              "      <th>3</th>\n",
              "      <td>Network_Administrator</td>\n",
              "      <td>Network Engineer &lt;span class=\"hl\"&gt;Network&lt;/spa...</td>\n",
              "    </tr>\n",
              "    <tr>\n",
              "      <th>4</th>\n",
              "      <td>Systems_Administrator</td>\n",
              "      <td>SYSTEMS ENGINEER SYSTEMS ENGINEER SYSTEMS ENGI...</td>\n",
              "    </tr>\n",
              "  </tbody>\n",
              "</table>\n",
              "</div>"
            ],
            "text/plain": [
              "                     Job                                             Resume\n",
              "0        Project_manager  Software Project Manager Software <span class=...\n",
              "1  Systems_Administrator  System Operation Engineer System Operation Eng...\n",
              "2        Project_manager  Sales Engineer Sales Engineer Project Manager/...\n",
              "3  Network_Administrator  Network Engineer <span class=\"hl\">Network</spa...\n",
              "4  Systems_Administrator  SYSTEMS ENGINEER SYSTEMS ENGINEER SYSTEMS ENGI..."
            ]
          },
          "metadata": {
            "tags": []
          },
          "execution_count": 11
        }
      ]
    },
    {
      "cell_type": "markdown",
      "metadata": {
        "id": "ayNYr-Xeivng"
      },
      "source": [
        "# **Baseline CNN-LSTM Model**"
      ]
    },
    {
      "cell_type": "code",
      "metadata": {
        "id": "zaC1heYVVtTr"
      },
      "source": [
        "#Make the shuffled version of the dataset that will be used for model training\n",
        "newdf = df.sample(frac=1).reset_index(drop=True)\n",
        "pd.DataFrame(newdf).to_csv(\"/content/drive/MyDrive/bangkit/newdf.csv\",index=None)"
      ],
      "execution_count": null,
      "outputs": []
    },
    {
      "cell_type": "code",
      "metadata": {
        "id": "5yJfcYUCqu1s"
      },
      "source": [
        "vocab_size = 10000\n",
        "embedding_dim = 64\n",
        "max_length = 300\n",
        "trunc_type='post'\n",
        "padding_type='post'\n",
        "oov_tok = \"<OOV>\"\n",
        "test_portion = .2"
      ],
      "execution_count": 12,
      "outputs": []
    },
    {
      "cell_type": "code",
      "metadata": {
        "id": "mqxxsMOluomB"
      },
      "source": [
        "sentences = []\n",
        "labels = []\n",
        "stopwords = [ \"a\", \"about\", \"above\", \"after\", \"again\", \"against\", \"all\", \"am\", \"an\", \"and\", \"any\", \"are\", \"as\", \"at\", \"be\", \"because\", \"been\", \"before\", \"being\", \"below\", \"between\", \"both\", \"but\", \"by\", \"could\", \"did\", \"do\", \"does\", \"doing\", \"down\", \"during\", \"each\", \"few\", \"for\", \"from\", \"further\", \"had\", \"has\", \"have\", \"having\", \"he\", \"he'd\", \"he'll\", \"he's\", \"her\", \"here\", \"here's\", \"hers\", \"herself\", \"him\", \"himself\", \"his\", \"how\", \"how's\", \"i\", \"i'd\", \"i'll\", \"i'm\", \"i've\", \"if\", \"in\", \"into\", \"is\", \"it\", \"it's\", \"its\", \"itself\", \"let's\", \"me\", \"more\", \"most\", \"my\", \"myself\", \"nor\", \"of\", \"on\", \"once\", \"only\", \"or\", \"other\", \"ought\", \"our\", \"ours\", \"ourselves\", \"out\", \"over\", \"own\", \"same\", \"she\", \"she'd\", \"she'll\", \"she's\", \"should\", \"so\", \"some\", \"such\", \"than\", \"that\", \"that's\", \"the\", \"their\", \"theirs\", \"them\", \"themselves\", \"then\", \"there\", \"there's\", \"these\", \"they\", \"they'd\", \"they'll\", \"they're\", \"they've\", \"this\", \"those\", \"through\", \"to\", \"too\", \"under\", \"until\", \"up\", \"very\", \"was\", \"we\", \"we'd\", \"we'll\", \"we're\", \"we've\", \"were\", \"what\", \"what's\", \"when\", \"when's\", \"where\", \"where's\", \"which\", \"while\", \"who\", \"who's\", \"whom\", \"why\", \"why's\", \"with\", \"would\", \"you\", \"you'd\", \"you'll\", \"you're\", \"you've\", \"your\", \"yours\", \"yourself\", \"yourselves\" ,\"span\", \"class\", \"hl\"]"
      ],
      "execution_count": 14,
      "outputs": []
    },
    {
      "cell_type": "code",
      "metadata": {
        "id": "HFYQLSMGcjcN"
      },
      "source": [
        "def clean_text(sentence):\n",
        "    for word in stopwords:\n",
        "      token = \" \" + word + \" \"\n",
        "      sentence = str(sentence).replace(token, \" \")\n",
        "    sentence = re.sub('[^a-zA-Z]', ' ', sentence)\n",
        "    sentence = re.sub(r\"\\s+[a-zA-Z]\\s+\", ' ', sentence)\n",
        "    sentence = re.sub(r'\\s+', ' ', sentence)\n",
        "    return sentence"
      ],
      "execution_count": 15,
      "outputs": []
    },
    {
      "cell_type": "code",
      "metadata": {
        "id": "NKtJa6Bpux9D"
      },
      "source": [
        "with open(\"/content/drive/MyDrive/bangkit/newdf.csv\", 'r') as csvfile:\n",
        "    reader = csv.reader(csvfile, delimiter=',')\n",
        "    next(reader)\n",
        "    for row in reader:\n",
        "      if any(c.isalpha() for c in row[0])==True and any(c.isalpha() for c in row[1])==True:\n",
        "        labels.append(row[0])\n",
        "        sen = row[1]\n",
        "        sentence = clean_text(sen)\n",
        "        sentences.append(sentence)\n",
        "      else:\n",
        "        pass"
      ],
      "execution_count": 16,
      "outputs": []
    },
    {
      "cell_type": "code",
      "metadata": {
        "id": "SiKub3oGUNNR"
      },
      "source": [
        "tokenizer = Tokenizer()\n",
        "tokenizer.fit_on_texts(sentences)\n",
        "\n",
        "word_index = tokenizer.word_index\n",
        "vocab_size=len(word_index)\n",
        "\n",
        "sequences = tokenizer.texts_to_sequences(sentences)\n",
        "padded = pad_sequences(sequences, maxlen=max_length, padding=padding_type, truncating=trunc_type)\n",
        "\n",
        "split = int(test_portion * len(sentences))\n",
        "\n",
        "test_sequences = padded[0:split]\n",
        "training_sequences = padded[split:]\n",
        "test_labels = labels[0:split]\n",
        "training_labels = labels[split:]"
      ],
      "execution_count": 17,
      "outputs": []
    },
    {
      "cell_type": "code",
      "metadata": {
        "id": "fOIEQXBCZJmW"
      },
      "source": [
        "label_tokenizer = Tokenizer(filters='!\"#$%&()*+,-./:;<=>?@[\\\\]^`{|}~\\t\\n')\n",
        "label_tokenizer.fit_on_texts(labels)\n",
        "\n",
        "training_label_seq = np.array(label_tokenizer.texts_to_sequences(training_labels))\n",
        "validation_label_seq = np.array(label_tokenizer.texts_to_sequences(test_labels))"
      ],
      "execution_count": 18,
      "outputs": []
    },
    {
      "cell_type": "code",
      "metadata": {
        "colab": {
          "base_uri": "https://localhost:8080/"
        },
        "id": "cxnOUxRBk2Vz",
        "outputId": "77a66afb-2297-4935-8662-393345c52de8"
      },
      "source": [
        "label_index = label_tokenizer.word_index\n",
        "list(label_index.items())"
      ],
      "execution_count": 40,
      "outputs": [
        {
          "output_type": "execute_result",
          "data": {
            "text/plain": [
              "[('software_developer', 1),\n",
              " ('systems_administrator', 2),\n",
              " ('project_manager', 3),\n",
              " ('web_developer', 4),\n",
              " ('database_administrator', 5),\n",
              " ('java_developer', 6),\n",
              " ('python_developer', 7),\n",
              " ('network_administrator', 8),\n",
              " ('security_analyst', 9)]"
            ]
          },
          "metadata": {
            "tags": []
          },
          "execution_count": 40
        }
      ]
    },
    {
      "cell_type": "code",
      "metadata": {
        "colab": {
          "base_uri": "https://localhost:8080/"
        },
        "id": "s6JEHf1tZTJL",
        "outputId": "03949dd1-dabe-4045-c959-bb0176356757"
      },
      "source": [
        "#training_labels\n",
        "training_label_seq\n",
        "#training_sequences"
      ],
      "execution_count": 20,
      "outputs": [
        {
          "output_type": "execute_result",
          "data": {
            "text/plain": [
              "array([[4],\n",
              "       [4],\n",
              "       [8],\n",
              "       ...,\n",
              "       [6],\n",
              "       [5],\n",
              "       [5]])"
            ]
          },
          "metadata": {
            "tags": []
          },
          "execution_count": 20
        }
      ]
    },
    {
      "cell_type": "code",
      "metadata": {
        "colab": {
          "base_uri": "https://localhost:8080/"
        },
        "id": "TJSRRPlV_zVQ",
        "outputId": "12cf2437-6400-4f93-db5e-7ead187125c0"
      },
      "source": [
        "model = tf.keras.Sequential([\n",
        "    # Add an Embedding layer expecting input vocab of size 10000, and output embedding dimension of size 64 we set at the top\n",
        "    tf.keras.layers.Embedding(vocab_size+1, embedding_dim, input_length=max_length),\n",
        "    tf.keras.layers.Dropout(0.5),\n",
        "    tf.keras.layers.Conv1D(32, 5, activation='relu'),\n",
        "    tf.keras.layers.MaxPooling1D(pool_size=4),\n",
        "    tf.keras.layers.Conv1D(64, 5, activation='relu'),\n",
        "    tf.keras.layers.MaxPooling1D(pool_size=4),\n",
        "#    tf.keras.layers.Conv1D(128, 5, activation='relu'),\n",
        "#    tf.keras.layers.MaxPooling1D(pool_size=4),\n",
        "    tf.keras.layers.Dropout(0.5),\n",
        "    tf.keras.layers.Bidirectional(tf.keras.layers.LSTM(embedding_dim)),\n",
        "    tf.keras.layers.Dense(embedding_dim, activation='relu', kernel_regularizer=(tf.keras.regularizers.L2(0.001))),\n",
        "    tf.keras.layers.Dense(10, activation='softmax')\n",
        "])\n",
        "model.summary()\n",
        "model.compile(loss='sparse_categorical_crossentropy', optimizer='adam', metrics=['accuracy'])"
      ],
      "execution_count": 21,
      "outputs": [
        {
          "output_type": "stream",
          "text": [
            "Model: \"sequential\"\n",
            "_________________________________________________________________\n",
            "Layer (type)                 Output Shape              Param #   \n",
            "=================================================================\n",
            "embedding (Embedding)        (None, 300, 64)           9284480   \n",
            "_________________________________________________________________\n",
            "dropout (Dropout)            (None, 300, 64)           0         \n",
            "_________________________________________________________________\n",
            "conv1d (Conv1D)              (None, 296, 32)           10272     \n",
            "_________________________________________________________________\n",
            "max_pooling1d (MaxPooling1D) (None, 74, 32)            0         \n",
            "_________________________________________________________________\n",
            "conv1d_1 (Conv1D)            (None, 70, 64)            10304     \n",
            "_________________________________________________________________\n",
            "max_pooling1d_1 (MaxPooling1 (None, 17, 64)            0         \n",
            "_________________________________________________________________\n",
            "dropout_1 (Dropout)          (None, 17, 64)            0         \n",
            "_________________________________________________________________\n",
            "bidirectional (Bidirectional (None, 128)               66048     \n",
            "_________________________________________________________________\n",
            "dense (Dense)                (None, 64)                8256      \n",
            "_________________________________________________________________\n",
            "dense_1 (Dense)              (None, 10)                650       \n",
            "=================================================================\n",
            "Total params: 9,380,010\n",
            "Trainable params: 9,380,010\n",
            "Non-trainable params: 0\n",
            "_________________________________________________________________\n"
          ],
          "name": "stdout"
        }
      ]
    },
    {
      "cell_type": "code",
      "metadata": {
        "colab": {
          "base_uri": "https://localhost:8080/"
        },
        "id": "EocEielOAAVD",
        "outputId": "a98a7a7e-0cfb-465c-9554-d46e411783df"
      },
      "source": [
        "num_epochs = 12\n",
        "\n",
        "checkpoint_path = \"training_1/cp.ckpt\"\n",
        "checkpoint_dir = os.path.dirname(checkpoint_path)\n",
        "\n",
        "model_checkpoint_callback = tf.keras.callbacks.ModelCheckpoint(\n",
        "    filepath=checkpoint_path,\n",
        "    save_weights_only=True,\n",
        "    monitor='val_accuracy',\n",
        "    mode='max',\n",
        "    save_best_only=True)\n",
        "\n",
        "history = model.fit(training_sequences, training_label_seq, epochs=num_epochs, validation_data=(test_sequences, validation_label_seq), verbose=2, callbacks=[model_checkpoint_callback])\n",
        "\n",
        "model.load_weights(checkpoint_path)"
      ],
      "execution_count": 22,
      "outputs": [
        {
          "output_type": "stream",
          "text": [
            "Epoch 1/12\n",
            "726/726 - 100s - loss: 1.1033 - accuracy: 0.6055 - val_loss: 0.5908 - val_accuracy: 0.8204\n",
            "Epoch 2/12\n",
            "726/726 - 64s - loss: 0.5190 - accuracy: 0.8446 - val_loss: 0.4562 - val_accuracy: 0.8667\n",
            "Epoch 3/12\n",
            "726/726 - 64s - loss: 0.3614 - accuracy: 0.8936 - val_loss: 0.4115 - val_accuracy: 0.8786\n",
            "Epoch 4/12\n",
            "726/726 - 64s - loss: 0.2486 - accuracy: 0.9294 - val_loss: 0.4225 - val_accuracy: 0.8838\n",
            "Epoch 5/12\n",
            "726/726 - 64s - loss: 0.1737 - accuracy: 0.9531 - val_loss: 0.4570 - val_accuracy: 0.8869\n",
            "Epoch 6/12\n",
            "726/726 - 64s - loss: 0.1260 - accuracy: 0.9662 - val_loss: 0.4964 - val_accuracy: 0.8800\n",
            "Epoch 7/12\n",
            "726/726 - 64s - loss: 0.0928 - accuracy: 0.9775 - val_loss: 0.4911 - val_accuracy: 0.8846\n",
            "Epoch 8/12\n",
            "726/726 - 64s - loss: 0.0804 - accuracy: 0.9799 - val_loss: 0.5132 - val_accuracy: 0.8817\n",
            "Epoch 9/12\n",
            "726/726 - 64s - loss: 0.0696 - accuracy: 0.9822 - val_loss: 0.5155 - val_accuracy: 0.8774\n",
            "Epoch 10/12\n",
            "726/726 - 64s - loss: 0.0612 - accuracy: 0.9850 - val_loss: 0.5742 - val_accuracy: 0.8762\n",
            "Epoch 11/12\n",
            "726/726 - 64s - loss: 0.0529 - accuracy: 0.9870 - val_loss: 0.5949 - val_accuracy: 0.8808\n",
            "Epoch 12/12\n",
            "726/726 - 64s - loss: 0.0459 - accuracy: 0.9891 - val_loss: 0.5800 - val_accuracy: 0.8784\n"
          ],
          "name": "stdout"
        },
        {
          "output_type": "execute_result",
          "data": {
            "text/plain": [
              "<tensorflow.python.training.tracking.util.CheckpointLoadStatus at 0x7f46aa51f0d0>"
            ]
          },
          "metadata": {
            "tags": []
          },
          "execution_count": 22
        }
      ]
    },
    {
      "cell_type": "code",
      "metadata": {
        "id": "VsepVnYHHk2u"
      },
      "source": [
        "model.save('/content/drive/MyDrive/bangkit/baseline_model.h5')\n",
        "#model = tf.keras.models.load_model('/content/drive/MyDrive/bangkit/baseline_model.h5')"
      ],
      "execution_count": null,
      "outputs": []
    },
    {
      "cell_type": "code",
      "metadata": {
        "colab": {
          "base_uri": "https://localhost:8080/",
          "height": 298
        },
        "id": "JQLEQfOcAJX-",
        "outputId": "1b6dc21e-393a-4525-ff28-026678ed9400"
      },
      "source": [
        "#with regularization\n",
        "acc = history.history['accuracy']\n",
        "val_acc = history.history['val_accuracy']\n",
        "loss = history.history['loss']\n",
        "val_loss = history.history['val_loss']\n",
        "\n",
        "epochs = range(len(acc))\n",
        "\n",
        "plt.plot(epochs, loss, 'r', label='Training loss')\n",
        "plt.plot(epochs, val_loss, 'b', label='Validation loss')\n",
        "plt.title('Training and validation loss')\n",
        "plt.legend(loc=0)\n",
        "plt.figure()\n",
        "plt.show()"
      ],
      "execution_count": 24,
      "outputs": [
        {
          "output_type": "display_data",
          "data": {
            "image/png": "[encoded data removed]",
            "text/plain": [
              "<Figure size 432x288 with 1 Axes>"
            ]
          },
          "metadata": {
            "tags": [],
            "needs_background": "light"
          }
        },
        {
          "output_type": "display_data",
          "data": {
            "text/plain": [
              "<Figure size 432x288 with 0 Axes>"
            ]
          },
          "metadata": {
            "tags": []
          }
        }
      ]
    },
    {
      "cell_type": "code",
      "metadata": {
        "colab": {
          "base_uri": "https://localhost:8080/",
          "height": 298
        },
        "id": "TTHOE8SvY7X8",
        "outputId": "fa770c2f-1b55-43e1-9184-fa53999d976d"
      },
      "source": [
        "plt.plot(epochs, acc, 'r', label='Training acc')\n",
        "plt.plot(epochs, val_acc, 'b', label='Validation acc')\n",
        "plt.title('Training and validation acc')\n",
        "plt.legend(loc=0)\n",
        "plt.figure()\n",
        "plt.show()"
      ],
      "execution_count": 25,
      "outputs": [
        {
          "output_type": "display_data",
          "data": {
            "image/png": "[encoded data removed]",
            "text/plain": [
              "<Figure size 432x288 with 1 Axes>"
            ]
          },
          "metadata": {
            "tags": [],
            "needs_background": "light"
          }
        },
        {
          "output_type": "display_data",
          "data": {
            "text/plain": [
              "<Figure size 432x288 with 0 Axes>"
            ]
          },
          "metadata": {
            "tags": []
          }
        }
      ]
    },
    {
      "cell_type": "markdown",
      "metadata": {
        "id": "pKbjZVM01H8X"
      },
      "source": [
        "# Try use the model to predict a string containing extracted resume informations"
      ]
    },
    {
      "cell_type": "code",
      "metadata": {
        "colab": {
          "base_uri": "https://localhost:8080/"
        },
        "id": "tTceQebw0HRp",
        "outputId": "75374041-0a58-493d-f233-cd67a8730c5d"
      },
      "source": [
        "labs = [list(label_index.keys())]\n",
        "inputs = \"Family Private Care LLC Lawrenceville, GA A self-motivated Production SQL Server Database Administrator who possesses  strong analytical and problem solving skills. My experience includes SQL Server  2005, 2008 and 2012, 2014, SSIS, as well as clustering, mirroring, and high  availability solutions in OLTP environments. I am proficient in database backup,  recovery, performance tuning, maintenance tasks, security, and consolidation.  I am confident that I would make a beneficial addition to any company. Over the  course of my career thus far, I have designed databases to fit a variety of needs,  successfully ensured the security of those databases, problem-solved in order to meet  both back-end and front-end needs, installed and tested new versions database  management systems, customized and installed applications and meticulously  monitored performance for the smoothest front-end experience possible. During my  5 to 6 years working with databases. Work Experience Database Administrator Family Private Care LLC - Roswell, GA April 2017 to Present Confirm that backups have been made and successfully saved to a secure  location  Planning for backup and recovery of database information.  Maintaining archived data Backing up and restoring databases, Contacting  database vendor for technical support Generating various reports by querying from database as per needed.  Managing and monitoring data replication. Acting as liaison with users High  Availability or Disaster Recovery Logs - Check your high availability and/or disaster recovery process logs. Depending on the solution (Log Shipping,  Clustering, Replication, Database Mirroring, CDP, etc.) that you are using  dictates what needs to be checked. Correcting errors and make necessary  modification  Modify existing databases and database management systems or direct  programmers and analysts to make changes.  Work as part of a project team to coordinate database development and see  termite project scope and limitations  Train Users and answers questions.  Approve, schedule, plan, and supervise the installation and testing of new  products and improvements to computer systems, such as the installation of new databases.  Review Procedures in Database management system manuals for making  changes to database.  Select and enter codes to monitor database performance and to create  production database.  Check the backup failure alerts, correct the errors and rerun the backups.  Review the average duration of backup, any significant changes occurred  investigates on this.  Most of the time it happens due to networking low bandwidth Validate the backup files using restore verify only.  I create jobs to take care of the task and to send a notification if it fails to verify  any backup.  Monitoring all backup and log history is cleaning when designed. Find out the newly added databases and define the backup plan. I do verify the free space on  each drive on all servers, If there is significant variance in free space from the day before, research the cause of the free space fluctuation and resolve if  necessary, Often times, log files will grow because of monthly jobs automate through a job. The job runs for every one hour and reports any drive which is  having less than 15 % of free space.  I can design a SSRS report to showcase and review the delta values.  Confirm all servers/databases are up and running fine. Usually in an Enterprise  Database Environment Third Party Tools are used to monitor Servers. For  database monitoring, I can design a native SQL Server solution using T-SQL  code and a maintenance plan, it run min by min and send an email to DBA  team if it is not able to connect to any of the database in the instance. I do design a native scripts using T-SQL to monitor Replication, Mirroring, Log  shipping. Database Administrator Incomm Alpharetta - Alpharetta, GA January 2014 to February 2017 * Responsible for administering and maintaining over 150 database servers of Production and Test environment.  * Analyzes the current database environment to determine recommended database  maintenance, security, and Microsoft SQL Server best practices.  * Monitors and troubleshoots production environments using Idera SQLdm.  * Creates and maintains documentation for DBA standard operating procedures.  * Ensures that all code changes made in the production environment are SOX  compliance before they are deployed.  * Analyses and migrates data using ETL into SQL Server databases to support  customer's implementation.  * Works closely with infrastructure team for patching and hardware upgrades, and ensures that both production and test servers are up to date by applying Windows  and SQL Server patches.  * Upgrades servers as required from SQL Server 2005 to SQL Server 2008, 2012., and 2014.  * Completes database administration maintenance projects as required * Provides  24/7 on call support as needed.  * Coordinates and configures new nodes for production server clusters for high  availability.  * Periodically restores backup files in test environment to check for corruption.  * Reviews security, performance, and disk space and recommend corrective actions  where needed.  * Assists application team in the creation of databases, construction of queries, modification of database tables, and troubleshooting data issues.  * Monitors servers for resources utilization (disk space, memory, CPU, etc.)  * Creates and Executes a migration/decommission plan for over 500 databases within a 4 month project window. Education Bachelor of Science Lead City University July 2013 Skills Database administration, Database, Ms sql server, Ms sql server 2005, Sql server, Sql server 2005, Sql server 2008, Sql server 2008 r2, Sql server 2012, Sql, Sql queries, Stored procedures, Clustering, Backups, T-sql, Virtualization, R2, Maintenance, Problem solving, Shipping Additional Information SKILLS  Installation and Building Server Running Backups Recovering and  Restoring Models  Support various MS SQL Server MS SQL Server 2005/2008  environments from SQL Server /2008R2R2/2012/2014  2005 thru SQL Server 2008r2 as administration including  well as with SQL Server 2012 on installation, configuration,  Windows Server 2003, 2003r2, upgrades, capacity planning,  2008, 2008r2, 2012 and 2014. performance tuning, backup and  recovery.  Familiar with virtualization and Work with developers to Identify,  managing SQL databases in a debug, and tune problem stored  virtual environment. procedures, T-SQL Queries, etc.  Management of users including Knowledge of High Availability of  creation/alteration, grant of database servers using Database  system/DB roles and permissions mirroring, replications, Log  on various database objects. Shipping and Always On  Availability Group.  Design and implement SQL Server 201, databases for mission-critical  2005, SQL Server 2008 R2, business.  Experience in creating tables, Environment transition planning  views, indexes, stored procedures (development, test, stage,  and more. production).  Import and export data to and from Perform routine backup and  the database servers. recovery testing and documenting  recovery scenarios.  Database administration including Use SQL Profiler for  installation, configuration, troubleshooting, monitoring, and  upgrades, capacity planning, optimization of SQL Server and  performance tuning, backup and SQL code.  recovery, index maintenance.  Modify stored procedures, queries, Manage the production and  views, indexes, and functions to development databases including  handle business rules, history data performance tuning, capacity  and audit analysis. planning, SQL Server clustering,  database security configuration,  and database continuity.  Excellent analytical, Strong decision making and  communication skills, work ethics problem solving skills.  and ability to work in a team  environment with strong  determination and commitment to  the deliverables.  Highly motivated self-starter with  the ability to work independently.\"\n",
        "clean_inputs = [clean_text(inputs)]\n",
        "print(str(clean_inputs)+'\\n')\n",
        "seq = tokenizer.texts_to_sequences(clean_inputs)\n",
        "padded = pad_sequences(seq, maxlen=max_length, padding=padding_type, truncating=trunc_type)\n",
        "print(str(padded)+'\\n')\n",
        "proba = model.predict(padded)[0,1:]\n",
        "#print only max value\n",
        "max = np.where(proba == np.amax(proba))\n",
        "for [i] in max:\n",
        "  idx = i\n",
        "predlabel = labs[0][idx]\n",
        "predprob = proba[idx]*100\n",
        "print(list(map(\"This resume is fit to {} jobs with probability of {:.2f}%\".format,[predlabel],[predprob])))\n",
        "\n",
        "\n",
        "for (label, p) in zip(labs, [proba[::-1]]):\n",
        "  print(\"Probability for each classes are : \" + str(list(map(\"{}: {:.2f}%\".format,label,p*100))))"
      ],
      "execution_count": 54,
      "outputs": [
        {
          "output_type": "stream",
          "text": [
            "['Family Private Care LLC Lawrenceville GA self motivated Production SQL Server Database Administrator possesses strong analytical problem solving skills My experience includes SQL Server SSIS well clustering mirroring high availability solutions OLTP environments proficient database backup recovery performance tuning maintenance tasks security consolidation confident make beneficial addition company Over the course career thus far designed databases fit variety needs successfully ensured security databases problem solved order meet back end front end needs installed tested new versions database management systems customized installed applications meticulously monitored performance smoothest front end experience possible During my years working databases Work Experience Database Administrator Family Private Care LLC Roswell GA April Present Confirm backups made successfully saved secure location Planning backup recovery database information Maintaining archived data Backing restoring databases Contacting database vendor technical support Generating various reports querying database per needed Managing monitoring data replication Acting liaison users High Availability Disaster Recovery Logs Check high availability and or disaster recovery process logs Depending solution Log Shipping Clustering Replication Database Mirroring CDP etc using dictates needs checked Correcting errors make necessary modification Modify existing databases database management systems direct programmers analysts make changes Work part project team coordinate database development see termite project scope limitations Train Users answers questions Approve schedule plan supervise installation testing new products improvements computer systems installation new databases Review Procedures Database management system manuals making changes database Select enter codes monitor database performance create production database Check backup failure alerts correct errors rerun backups Review average duration backup significant changes occurred investigates this Most time happens due networking low bandwidth Validate backup files using restore verify only create jobs take care task send notification fails verify backup Monitoring backup log history cleaning designed Find newly added databases define backup plan verify free space on drive servers If significant variance free space day before research cause free space fluctuation resolve if necessary Often times log files will grow monthly jobs automate job The job runs every one hour reports drive is less free space can design SSRS report showcase review delta values Confirm servers databases running fine Usually Enterprise Database Environment Third Party Tools used monitor Servers For database monitoring can design native SQL Server solution using SQL code maintenance plan run min min send email DBA team not able connect database instance design native scripts using SQL monitor Replication Mirroring Log shipping Database Administrator Incomm Alpharetta Alpharetta GA January February Responsible administering maintaining database servers Production Test environment Analyzes current database environment determine recommended database maintenance security Microsoft SQL Server best practices Monitors troubleshoots production environments using Idera SQLdm Creates maintains documentation DBA standard operating procedures Ensures code changes made production environment SOX compliance deployed Analyses migrates data using ETL SQL Server databases support customer implementation Works closely infrastructure team patching hardware upgrades ensures production test servers date applying Windows SQL Server patches Upgrades servers required SQL Server SQL Server Completes database administration maintenance projects required Provides call support needed Coordinates configures new nodes production server clusters high availability Periodically restores backup files test environment check corruption Reviews security performance disk space recommend corrective actions needed Assists application team creation databases construction queries modification database tables troubleshooting data issues Monitors servers resources utilization disk space memory CPU etc Creates Executes migration decommission plan databases within month project window Education Bachelor Science Lead City University July Skills Database administration Database Ms sql server Ms sql server Sql server Sql server Sql server Sql server Sql server Sql Sql queries Stored procedures Clustering Backups sql Virtualization Maintenance Problem solving Shipping Additional Information SKILLS Installation Building Server Running Backups Recovering and Restoring Models Support various MS SQL Server MS SQL Server environments SQL Server R thru SQL Server administration including well SQL Server installation configuration Windows Server upgrades capacity planning performance tuning backup and recovery Familiar virtualization Work developers Identify managing SQL databases debug tune problem stored virtual environment procedures SQL Queries etc Management users including Knowledge High Availability of creation alteration grant database servers using Database system DB roles permissions mirroring replications Log various database objects Shipping Always On Availability Group Design implement SQL Server databases mission critical SQL Server business Experience creating tables Environment transition planning views indexes stored procedures development test stage more production Import export data Perform routine backup and database servers recovery testing documenting recovery scenarios Database administration including Use SQL Profiler for installation configuration troubleshooting monitoring and upgrades capacity planning optimization SQL Server and performance tuning backup SQL code recovery index maintenance Modify stored procedures queries Manage production and views indexes functions development databases including handle business rules history data performance tuning capacity audit analysis planning SQL Server clustering database security configuration database continuity Excellent analytical Strong decision making and communication skills work ethics problem solving skills ability work team environment strong determination commitment to deliverables Highly motivated self starter with ability work independently ']\n",
            "\n",
            "[[ 2325  1158   834   845  8830   666   721  1202   115     9     8    10\n",
            "     59  5229   271   755   395   595    42   777     5   634     9     8\n",
            "    779   165  1678  2290   183   531   108  2540   231   404    10   225\n",
            "    262    79   308   123   251    17  2566  5787   461  8170  1705   113\n",
            "   1010   169  1465  1550  3586  6324    65    94  2692   952   321   589\n",
            "    809    17    94   395  3026   375   516   327    41    76    41   321\n",
            "    317   521    38  1073    10    12    21   924   317    31 12286   522\n",
            "     79 31478    76    41     5  1614  3285   777    22    93    94    32\n",
            "      5    10    59  2325  1158   834   845 11863   666   192    85  4392\n",
            "    514   798   589  2485   729   990   214   225   262    10    36   302\n",
            "   6265     2  4090  4353    94  7656    10   550    54    25  1170    56\n",
            "    104  2525    10   464   479   255   150     2   802  3883  1479    99\n",
            "    183   531   561   262   704   741   183   531   353   799   561   262\n",
            "     80   704  2655   349   258  1405  1678   802    10  2290  8411   215\n",
            "      1 25414   321  3760  5543   820   461   719  2255  1343   199    94\n",
            "     10    12    21  1008  2972  1160   461   366    32   400    13    34\n",
            "    776    10     6  2431 39135    13   718  5071  1722    99  5744  1787\n",
            "   4085   687   268  3070   227    39    38   312  1088    97    21   227\n",
            "     38    94   370   100    10    12    15  2437   619   366    10  2229\n",
            "   3649  1680   358    10    79   118   115    10   741   225  1929   987\n",
            "   1652   820 24615   514   370  2695  2719   225  2379   366  5835  9765\n",
            "    401  4142   135 12042  1895   393  1727  3198  1378   225   208     1\n",
            "   1502  1785  4539   118   465  1412   834   731  1270  1684 12303  1785\n",
            "    225   150   225   258  1536  2396    65  1555  2481   859    94  1293\n",
            "    225   268  1785  1966   917   252  1037    66  3763  2379  6762  1966]]\n",
            "\n",
            "['This resume is fit to database_administrator jobs with probability of 99.67%']\n",
            "Probability for each classes are : ['software_developer: 0.02%', 'systems_administrator: 0.02%', 'project_manager: 0.01%', 'web_developer: 0.02%', 'database_administrator: 99.67%', 'java_developer: 0.00%', 'python_developer: 0.03%', 'network_administrator: 0.16%', 'security_analyst: 0.05%']\n"
          ],
          "name": "stdout"
        }
      ]
    }
  ]
}